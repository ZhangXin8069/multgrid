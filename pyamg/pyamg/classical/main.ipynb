{
 "cells": [
  {
   "cell_type": "code",
   "execution_count": 4,
   "metadata": {},
   "outputs": [
    {
     "name": "stdout",
     "output_type": "stream",
     "text": [
      "MultilevelSolver\n",
      "Number of Levels:     10\n",
      "Operator Complexity:   2.199\n",
      "Grid Complexity:       1.667\n",
      "Coarse Solver:        'pinv'\n",
      "  level   unknowns     nonzeros\n",
      "     0     1000000      4996000 [45.47%]\n",
      "     1      500000      4492002 [40.88%]\n",
      "     2      125247      1124215 [10.23%]\n",
      "     3       31250       280238 [2.55%]\n",
      "     4        7873        71075 [0.65%]\n",
      "     5        1953        17555 [0.16%]\n",
      "     6         495         4485 [0.04%]\n",
      "     7         127         1115 [0.01%]\n",
      "     8          33          273 [0.00%]\n",
      "     9           6           32 [0.00%]\n",
      "\n",
      "residual:  2.2967740686169973e-08\n"
     ]
    }
   ],
   "source": [
    "import pyamg\n",
    "import numpy as np\n",
    "N = 1000\n",
    "# 2D Poisson problem on NxN grid\n",
    "A = pyamg.gallery.poisson((N, N), format='csr')\n",
    "# construct the multigrid hierarchy\n",
    "ml = pyamg.ruge_stuben_solver(A)\n",
    "# print hierarchy information\n",
    "print(ml)\n",
    "# pick a random right hand side\n",
    "b = np.random.rand(A.shape[0])\n",
    "# solve Ax=b to a tolerance of 1e-10\n",
    "x = ml.solve(b, tol=1e-10)\n",
    "# compute norm of residual vector\n",
    "print(\"residual: \", np.linalg.norm(b-A*x))"
   ]
  },
  {
   "cell_type": "code",
   "execution_count": null,
   "metadata": {},
   "outputs": [],
   "source": []
  }
 ],
 "metadata": {
  "kernelspec": {
   "display_name": "Python 3",
   "language": "python",
   "name": "python3"
  },
  "language_info": {
   "codemirror_mode": {
    "name": "ipython",
    "version": 3
   },
   "file_extension": ".py",
   "mimetype": "text/x-python",
   "name": "python",
   "nbconvert_exporter": "python",
   "pygments_lexer": "ipython3",
   "version": "3.10.12"
  }
 },
 "nbformat": 4,
 "nbformat_minor": 2
}
